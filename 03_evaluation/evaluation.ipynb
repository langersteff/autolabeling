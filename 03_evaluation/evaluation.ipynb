{
 "cells": [
  {
   "cell_type": "code",
   "execution_count": null,
   "metadata": {
    "scrolled": true
   },
   "outputs": [],
   "source": [
    "%load_ext autoreload\n",
    "%autoreload 2\n",
    "\n",
    "# add src to sys-path\n",
    "import sys\n",
    "import os\n",
    "import numpy as np\n",
    "import pandas as pd\n",
    "import matplotlib.pyplot as plt\n",
    "sys.path.append('./src')\n",
    "from matplotlib.pyplot import figure\n",
    "from geopy.distance import geodesic\n",
    "from sklearn.decomposition import PCA\n",
    "\n",
    "from data_processing.mtb_data_provider import MtbDataProvider\n",
    "from data_processing.mtb_data_tagger import MtbDataTagger\n",
    "from data_processing.mtb_classifier import MtbClassifier\n",
    "from visualization.mtb_visualizer import MtbVisualizer\n",
    "from data_processing.helpers import Helpers\n",
    "\n",
    "from numpy.random import seed\n",
    "import tensorflow\n",
    "tensorflow.random.set_seed(42)\n",
    "seed(42)\n",
    "np.random.seed(42)"
   ]
  },
  {
   "cell_type": "code",
   "execution_count": null,
   "metadata": {},
   "outputs": [],
   "source": [
    "mtb_data_provider = MtbDataProvider()\n",
    "mtb_classifier = MtbClassifier()\n",
    "\n",
    "LATITUDE_KEY = 'position_lat'\n",
    "LONGITUDE_KEY = 'position_long'"
   ]
  },
  {
   "cell_type": "markdown",
   "metadata": {},
   "source": [
    "## Create windowed samples"
   ]
  },
  {
   "cell_type": "code",
   "execution_count": null,
   "metadata": {},
   "outputs": [],
   "source": [
    "dataset_filename='mtb_dataset_20201007'\n",
    "input_columns = ['timestamp', 'SensorAccelerationX_HD', 'SensorAccelerationY_HD', 'SensorAccelerationZ_HD', 'SensorSpeed', 'heart_rate', 'altitude', 'SensorHeading', LATITUDE_KEY, LONGITUDE_KEY]\n",
    "label_columns=['osm_mtb:scale', 'osm_surface', 'trailforks_difficulty', 'trailforks_physical_rating', 'trailforks_difficulty_user_avg', 'trailforks_amtb-rating']\n",
    "window_lengths = [150, 300, 600, 1500]\n",
    "sub_sample_lengths = [50, 150, 300, 600]"
   ]
  },
  {
   "cell_type": "code",
   "execution_count": null,
   "metadata": {
    "scrolled": true
   },
   "outputs": [],
   "source": [
    "mtb_data_provider.prepare_and_save_samples(\n",
    "    dataset_filename, \n",
    "    input_columns, \n",
    "    label_columns,\n",
    "    window_lengths=window_lengths, \n",
    "    sub_sample_lengths=sub_sample_lengths, \n",
    "    force_overwrite=True,\n",
    "    auto_padd_left_right=True,\n",
    "    min_cluster_size=1)"
   ]
  },
  {
   "cell_type": "markdown",
   "metadata": {},
   "source": [
    "## Classification"
   ]
  },
  {
   "cell_type": "code",
   "execution_count": null,
   "metadata": {
    "scrolled": false
   },
   "outputs": [],
   "source": [
    "input_columns = ['SensorAccelerationX_HD', 'SensorAccelerationY_HD', 'SensorAccelerationZ_HD', 'SensorSpeed', 'heart_rate', 'altitude', 'SensorHeading']\n",
    "\n",
    "classifier_names = [\n",
    "    \"KNeighborsClassifier\", \n",
    "    \"DecisionTreeClassifier\", \n",
    "    \"RandomForestClassifier\", \n",
    "    \"MLPClassifier\"\n",
    "\n",
    "\n",
    "label_columns = [\n",
    "    ('osm_surface', '0'),\n",
    "    ('osm_mtb:scale', 0),\n",
    "    ('trailforks_difficulty', 0),\n",
    "    ('trailforks_trailtype', 0),\n",
    "]"
   ]
  },
  {
   "cell_type": "markdown",
   "metadata": {},
   "source": [
    "### Classification on all data"
   ]
  },
  {
   "cell_type": "code",
   "execution_count": null,
   "metadata": {
    "scrolled": true
   },
   "outputs": [],
   "source": [
    "for label_column, ignore_label in label_columns:\n",
    "    mtb_classifier.run_classification(\n",
    "        dataset_input = dataset_filename,     \n",
    "        input_columns = input_columns, \n",
    "        label_column = label_column,\n",
    "        ignore_label=ignore_label,\n",
    "        window_lengths=window_lengths, \n",
    "        classifier_names = classifier_names, \n",
    "        mtb_data_provider = mtb_data_provider, \n",
    "        mtb_visualizer = mtb_visualizer, \n",
    "        n_splits = 5, \n",
    "        step_size=1,\n",
    "        label_appearance_threshold=0.3,\n",
    "        clear_outliers = False, \n",
    "        save_plots = True)"
   ]
  },
  {
   "cell_type": "code",
   "execution_count": null,
   "metadata": {},
   "outputs": [],
   "source": [
    "for label_column, _ in label_columns:\n",
    "    omtb_scale = np.load('evaluation/mtb_dataset_20201007_' + label_column + '.npy', allow_pickle=True)\n",
    "\n",
    "    for name, result in dict(omtb_scale.all()).items():\n",
    "        folds = np.concatenate(result)\n",
    "        class_count = name.split('_')[-1]\n",
    "        guessing = 1/float(class_count)\n",
    "        \n",
    "        if 'adjusted' not in name:\n",
    "            print(name)\n",
    "            print(\"\\tClasses:\", class_count)\n",
    "            print(\"\\tAccuracy: %0.2f (+/- %0.2f)\" % (folds.mean(), folds.std() * 2), \"\\t\\tGuessing would be: %0.2f\" % guessing)\n",
    "        else:\n",
    "            print(\"\\tAdjusted Accuracy: %0.2f (+/- %0.2f)\" % (folds.mean(), folds.std() * 2))\n",
    "    print(\"\\n\")"
   ]
  },
  {
   "cell_type": "markdown",
   "metadata": {},
   "source": [
    "### Classification for isolated sensor measurements"
   ]
  },
  {
   "cell_type": "code",
   "execution_count": null,
   "metadata": {},
   "outputs": [],
   "source": [
    "input_sets = [['SensorAccelerationX_HD', 'SensorAccelerationY_HD', 'SensorAccelerationZ_HD'], ['SensorSpeed'], ['heart_rate'], ['altitude'], ['SensorHeading']]\n",
    "\n",
    "for input_columns in input_sets:\n",
    "    print(\"=========================================================================================================\")\n",
    "    print(\"=========\\n\", input_columns, \"=========\\n\")\n",
    "    print(\"=========================================================================================================\")    \n",
    "    \n",
    "    for label_column, ignore_label in label_columns:\n",
    "        mtb_classifier.run_classification(\n",
    "            dataset_input = dataset_filename,     \n",
    "            input_columns = input_columns, \n",
    "            label_column = label_column,\n",
    "            ignore_label=ignore_label,\n",
    "            window_lengths=window_lengths, \n",
    "            classifier_names = classifier_names, \n",
    "            mtb_data_provider = mtb_data_provider, \n",
    "            mtb_visualizer = mtb_visualizer, \n",
    "            n_splits = 5, \n",
    "            step_size=1,\n",
    "            label_appearance_threshold=0.3,\n",
    "            clear_outliers = False, \n",
    "            save_plots = False)\n",
    "        \n",
    "        omtb_scale = np.load('evaluation/mtb_dataset_20201007_' + label_column + '.npy', allow_pickle=True)\n",
    "        \n",
    "        for name, result in dict(omtb_scale.all()).items():\n",
    "            folds = np.concatenate(result)\n",
    "            class_count = name.split('_')[-1]\n",
    "            guessing = 1/float(class_count)\n",
    "\n",
    "            if 'adjusted' not in name:\n",
    "                print(name)\n",
    "                print(\"\\tAccuracy: %0.2f (+/- %0.2f)\" % (folds.mean(), folds.std() * 2), \"\\t\\tGuessing would be: %0.2f\" % guessing)\n",
    "            else:\n",
    "                print(\"\\tAdjusted Accuracy: %0.2f (+/- %0.2f)\" % (folds.mean(), folds.std() * 2))\n",
    "        print(\"\\n\")"
   ]
  }
 ],
 "metadata": {
  "kernelspec": {
   "display_name": "Python 3",
   "language": "python",
   "name": "python3"
  },
  "language_info": {
   "codemirror_mode": {
    "name": "ipython",
    "version": 3
   },
   "file_extension": ".py",
   "mimetype": "text/x-python",
   "name": "python",
   "nbconvert_exporter": "python",
   "pygments_lexer": "ipython3",
   "version": "3.8.5"
  }
 },
 "nbformat": 4,
 "nbformat_minor": 2
}
